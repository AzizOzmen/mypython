{
 "cells": [
  {
   "cell_type": "code",
   "execution_count": 12,
   "metadata": {},
   "outputs": [
    {
     "name": "stdout",
     "output_type": "stream",
     "text": [
      "TAACG\n",
      "CATA\n"
     ]
    }
   ],
   "source": [
    "def DNA_strand(dna):\r\n",
    "    dict_DNA = {\"A\":\"T\",\r\n",
    "                \"T\":\"A\",\r\n",
    "                \"C\":\"G\",\r\n",
    "                \"G\":\"C\"} \r\n",
    "    return \"\".join([str(dict_DNA[i]) for i in dna if i in dict_DNA.keys()])\r\n",
    "\r\n",
    "    # code here\r\n",
    "\r\n",
    "print(DNA_strand (\"ATTGC\")) # return \"TAACG\"\r\n",
    "print(DNA_strand (\"GTAT\")) # return \"CATA\""
   ]
  },
  {
   "cell_type": "code",
   "execution_count": 31,
   "metadata": {},
   "outputs": [
    {
     "name": "stdout",
     "output_type": "stream",
     "text": [
      "TAACG\n",
      "CATA\n"
     ]
    }
   ],
   "source": [
    "def DNA_strand(dna):\r\n",
    "  return \"\".join([{'A':'T', 'T':'A', 'C':'G', 'G':'C'}[l] for l in dna])\r\n",
    "print(DNA_strand (\"ATTGC\")) # return \"TAACG\"\r\n",
    "print(DNA_strand (\"GTAT\")) # return \"CATA"
   ]
  },
  {
   "cell_type": "code",
   "execution_count": 36,
   "metadata": {},
   "outputs": [
    {
     "name": "stdout",
     "output_type": "stream",
     "text": [
      "CATA\n"
     ]
    }
   ],
   "source": [
    "def DNA_strand(dna):\r\n",
    "    return dna.translate(dna.maketrans(\"KLMN\",\"ABCD\"))\r\n",
    "\r\n",
    "print(DNA_strand (\"CATA\")) "
   ]
  },
  {
   "cell_type": "code",
   "execution_count": 44,
   "metadata": {},
   "outputs": [
    {
     "name": "stdout",
     "output_type": "stream",
     "text": [
      "GTAT\n"
     ]
    }
   ],
   "source": [
    "import string\r\n",
    "def DNA_strand(dna):\r\n",
    "    # return dna.maketrans(\"ATCG\",\"TAGC\")\r\n",
    "    # return dna.translate(dna.maketrans(\"ATCG\",\"TAGC\"))\r\n",
    "    return dna.translate({65: 84, 84: 65, 67: 71, 71: 67})  # dictionary or mappingtable is mandotory\r\n",
    "\r\n",
    "print(DNA_strand(\"CATA\")) "
   ]
  },
  {
   "cell_type": "code",
   "execution_count": null,
   "metadata": {},
   "outputs": [],
   "source": []
  }
 ],
 "metadata": {
  "kernelspec": {
   "display_name": "Python 3.9.2 64-bit",
   "name": "python392jvsc74a57bd0494354d0763d65cab88bbb4e53e7fe796e4769bf51a5d83fda148bb2ca44ff85"
  },
  "language_info": {
   "codemirror_mode": {
    "name": "ipython",
    "version": 3
   },
   "file_extension": ".py",
   "mimetype": "text/x-python",
   "name": "python",
   "nbconvert_exporter": "python",
   "pygments_lexer": "ipython3",
   "version": "3.9.2"
  },
  "orig_nbformat": 2
 },
 "nbformat": 4,
 "nbformat_minor": 2
}