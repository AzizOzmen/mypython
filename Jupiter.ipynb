{
 "cells": [
  {
   "cell_type": "raw",
   "metadata": {},
   "source": [
    "for i in range(25, 51):\r\n",
    "    count = 0\r\n",
    "    for j in range(2, i):\r\n",
    "        if i % j == 0:\r\n",
    "            count += 1 \r\n",
    "    if count >= 1:\r\n",
    "        continue\r\n",
    "        print(i, \"Prime Degil\")\r\n",
    "    else:\r\n",
    "        print(i, \"Prime!\")"
   ]
  }
 ],
 "metadata": {
  "kernelspec": {
   "display_name": "Python 3.9.2 64-bit",
   "name": "python392jvsc74a57bd0494354d0763d65cab88bbb4e53e7fe796e4769bf51a5d83fda148bb2ca44ff85"
  },
  "language_info": {
   "name": "python",
   "version": ""
  },
  "metadata": {
   "interpreter": {
    "hash": "494354d0763d65cab88bbb4e53e7fe796e4769bf51a5d83fda148bb2ca44ff85"
   }
  },
  "orig_nbformat": 2
 },
 "nbformat": 4,
 "nbformat_minor": 2
}