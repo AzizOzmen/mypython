{
 "cells": [
  {
   "cell_type": "code",
   "execution_count": 6,
   "metadata": {},
   "outputs": [
    {
     "name": "stdout",
     "output_type": "stream",
     "text": [
      "13\n"
     ]
    }
   ],
   "source": [
    "def san(t):\r\n",
    "    print(t+1)\r\n",
    "x=-2\r\n",
    "x=4\r\n",
    "san(12)"
   ]
  },
  {
   "cell_type": "code",
   "execution_count": 21,
   "metadata": {},
   "outputs": [
    {
     "name": "stdout",
     "output_type": "stream",
     "text": [
      "25\n"
     ]
    }
   ],
   "source": [
    "a=10\r\n",
    "globals()['a']=25\r\n",
    "print(a)"
   ]
  },
  {
   "cell_type": "code",
   "execution_count": 13,
   "metadata": {},
   "outputs": [
    {
     "name": "stdout",
     "output_type": "stream",
     "text": [
      "18\n",
      "20\n"
     ]
    }
   ],
   "source": [
    "x = 9\r\n",
    "\r\n",
    "def foo():\r\n",
    "    global x\r\n",
    "    y = 20\r\n",
    "    x = x * 2\r\n",
    "    print(x)\r\n",
    "    print(y)\r\n",
    "\r\n",
    "foo()"
   ]
  },
  {
   "cell_type": "code",
   "execution_count": 28,
   "metadata": {},
   "outputs": [
    {
     "name": "stdout",
     "output_type": "stream",
     "text": [
      "inner: 20\n"
     ]
    }
   ],
   "source": [
    "def inner():\r\n",
    "    x = 10\r\n",
    "    def outer():\r\n",
    "        nonlocal x\r\n",
    "        x = 20\r\n",
    "        print(\"inner:\", x)\r\n",
    "    outer()\r\n",
    "inner()\r\n",
    "\r\n"
   ]
  },
  {
   "cell_type": "code",
   "execution_count": 20,
   "metadata": {},
   "outputs": [
    {
     "name": "stdout",
     "output_type": "stream",
     "text": [
      "False True\n"
     ]
    }
   ],
   "source": [
    "f=lambda x:bool(x%2)\r\n",
    "print(f(20), f(21))"
   ]
  },
  {
   "cell_type": "code",
   "execution_count": 26,
   "metadata": {},
   "outputs": [
    {
     "name": "stdout",
     "output_type": "stream",
     "text": [
      "12\n",
      "12\n"
     ]
    }
   ],
   "source": [
    "def myfunc(x):\r\n",
    "    a = 6\r\n",
    "    def func():\r\n",
    "        nonlocal a \r\n",
    "        a = 12\r\n",
    "        print(a)\r\n",
    "    func()\r\n",
    "    print(a)\r\n",
    "myfunc(x)"
   ]
  },
  {
   "cell_type": "code",
   "execution_count": 29,
   "metadata": {},
   "outputs": [
    {
     "name": "stdout",
     "output_type": "stream",
     "text": [
      "[2, 10, 8, 12, 16, 22, 6, 24]\n"
     ]
    }
   ],
   "source": [
    "my_list = [1, 5, 4, 6, 8, 11, 3, 12]\r\n",
    "new_list = list(map(lambda x: x * 2 , my_list))\r\n",
    "print(new_list)\r\n"
   ]
  },
  {
   "cell_type": "code",
   "execution_count": 31,
   "metadata": {},
   "outputs": [
    {
     "name": "stdout",
     "output_type": "stream",
     "text": [
      "[1, 4, 9, 16, 25, 36, 49]\n"
     ]
    }
   ],
   "source": [
    "aList = [1, 2, 3, 4, 5, 6, 7]\r\n",
    "bList = list(map(lambda x: x ** 2, aList))\r\n",
    "print(bList)"
   ]
  }
 ],
 "metadata": {
  "kernelspec": {
   "display_name": "Python 3.9.2 64-bit",
   "name": "python392jvsc74a57bd0494354d0763d65cab88bbb4e53e7fe796e4769bf51a5d83fda148bb2ca44ff85"
  },
  "language_info": {
   "name": "python",
   "version": ""
  },
  "orig_nbformat": 2
 },
 "nbformat": 4,
 "nbformat_minor": 2
}