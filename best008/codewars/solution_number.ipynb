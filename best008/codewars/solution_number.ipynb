{
 "cells": [
  {
   "cell_type": "code",
   "execution_count": 15,
   "metadata": {},
   "outputs": [
    {
     "name": "stdout",
     "output_type": "stream",
     "text": [
      "45\n"
     ]
    }
   ],
   "source": [
    "# If we list all the natural numbers below 10 that are multiples of 3 or 5, we get 3, 5, 6 and 9. The sum of these multiples is 23.\r\n",
    "\r\n",
    "# Finish the solution so that it returns the sum of all the multiples of 3 or 5 below the number passed in.\r\n",
    "\r\n",
    "# Note: If the number is a multiple of both 3 and 5, only count it once. Also, if a number is negative, return 0(for languages that do have them)\r\n",
    "\r\n",
    "# def solution(number):\r\n",
    "#     sum = 0\r\n",
    "#     if number <= 0:\r\n",
    "#         return 0\r\n",
    "#     for i in range(1, number):\r\n",
    "#         if i % 3 == 0 or i % 5 == 0:\r\n",
    "#             sum += i\r\n",
    "#     return sum\r\n",
    "\r\n",
    "def solution(number):\r\n",
    "    return sum([0 if number <= 0 else i for i in range(1, number) if i % 3 == 0 or i % 5 == 0])\r\n",
    "\r\n",
    "\r\n",
    "print(solution(15))"
   ]
  }
 ],
 "metadata": {
  "kernelspec": {
   "display_name": "Python 3.9.2 64-bit",
   "name": "python392jvsc74a57bd0494354d0763d65cab88bbb4e53e7fe796e4769bf51a5d83fda148bb2ca44ff85"
  },
  "language_info": {
   "codemirror_mode": {
    "name": "ipython",
    "version": 3
   },
   "file_extension": ".py",
   "mimetype": "text/x-python",
   "name": "python",
   "nbconvert_exporter": "python",
   "pygments_lexer": "ipython3",
   "version": "3.9.2"
  },
  "orig_nbformat": 2
 },
 "nbformat": 4,
 "nbformat_minor": 2
}