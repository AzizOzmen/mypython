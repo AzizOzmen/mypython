{
 "cells": [
  {
   "cell_type": "code",
   "execution_count": 7,
   "metadata": {},
   "outputs": [
    {
     "name": "stdout",
     "output_type": "stream",
     "text": [
      "[1, 2]\n",
      "[1, 2, 2, 2, 3]\n"
     ]
    }
   ],
   "source": [
    "# Your goal in this kata is to implement a difference function, \r\n",
    "# which subtracts one list from another and returns the result.\r\n",
    "\r\n",
    "# It should remove all values from list a, \r\n",
    "# which are present in list b keeping their order.\r\n",
    "\r\n",
    "# array_diff([1,2],[1]) == [2]\r\n",
    "# If a value is present in b, all of \r\n",
    "# its occurrences must be removed from the other:\r\n",
    "\r\n",
    "# array_diff([1,2,2,2,3],[2]) == [1,3]\r\n",
    "\r\n",
    "def array_diff(a, b):\r\n",
    "    b = str(b)\r\n",
    "    list_a = a\r\n",
    "    if b in list_a:\r\n",
    "        list_a.remove(b)\r\n",
    "    return list_a\r\n",
    "print(array_diff([1, 2], [1]))\r\n",
    "print(array_diff([1, 2, 2, 2, 3], [2]))"
   ]
  }
 ],
 "metadata": {
  "kernelspec": {
   "display_name": "Python 3.9.2 64-bit",
   "name": "python392jvsc74a57bd0494354d0763d65cab88bbb4e53e7fe796e4769bf51a5d83fda148bb2ca44ff85"
  },
  "language_info": {
   "codemirror_mode": {
    "name": "ipython",
    "version": 3
   },
   "file_extension": ".py",
   "mimetype": "text/x-python",
   "name": "python",
   "nbconvert_exporter": "python",
   "pygments_lexer": "ipython3",
   "version": "3.9.2"
  },
  "orig_nbformat": 2
 },
 "nbformat": 4,
 "nbformat_minor": 2
}