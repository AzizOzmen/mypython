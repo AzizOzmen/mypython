{
 "cells": [
  {
   "cell_type": "code",
   "execution_count": null,
   "metadata": {},
   "outputs": [],
   "source": [
    "def likes(input):\r\n",
    "    if bool(input) == 0:\r\n",
    "       return \"no one likes this\"\r\n",
    "    elif len(input) == 1:\r\n",
    "        return input[0], \"likes this\"\r\n",
    "    elif len(input) == 2:\r\n",
    "       return input[0], \"and\", input[1], \"like this\"\r\n",
    "    elif len(input) == 3:\r\n",
    "        return input[0],input[1], \"and\", input[2], \"like this\"\r\n",
    "    else:\r\n",
    "       return [0] + \",\", input[1],  \"and\", (len(input) - 2), \"others like this\"\r\n",
    "\r\n",
    "likes([\"Alex\", \"Jacob\", \"Mark\", \"Max\",\"Alex\", \"Jacob\", \"Mark\", \"Max\"])"
   ]
  }
 ],
 "metadata": {
  "kernelspec": {
   "display_name": "Python 3.9.2 64-bit",
   "name": "python392jvsc74a57bd0494354d0763d65cab88bbb4e53e7fe796e4769bf51a5d83fda148bb2ca44ff85"
  },
  "language_info": {
   "name": "python",
   "version": ""
  },
  "orig_nbformat": 3
 },
 "nbformat": 4,
 "nbformat_minor": 2
}